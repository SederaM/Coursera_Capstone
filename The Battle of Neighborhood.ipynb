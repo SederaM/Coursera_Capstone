{
    "cells": [
        {
            "cell_type": "markdown",
            "metadata": {
                "collapsed": true
            },
            "source": "# Capstone Project - The Battle of the Neighborhoods (Week 1)\n### Applied Data Science Capstone by IBM/Coursera"
        },
        {
            "cell_type": "markdown",
            "metadata": {},
            "source": "## Introduction: Business Problem <a name=\"introduction\"></a>"
        },
        {
            "cell_type": "markdown",
            "metadata": {},
            "source": "In this project we will try to find an optimal location for a zumba club. Specifically, this report will be targeted to stakeholders interested in opening an **Zumba Fitness Club** in **New York**, The United-States.\n\nSince there are lots of Fitness Club in New York we will try to detect **locations that are not already crowded with gymnasium**. We are also particularly interested in **areas with no Afro Zumba Fitness Club in vicinity**. We would also prefer neighborhoods **with high percentage of Black or Hispanic population**, assuming that first two conditions are met.\n\nWe will use our data science powers to generate a few most promissing neighborhoods based on this criteria. Advantages of each area will then be clearly expressed so that best possible final location can be chosen by stakeholders."
        },
        {
            "cell_type": "markdown",
            "metadata": {},
            "source": "## Data <a name=\"data\"></a>"
        },
        {
            "cell_type": "markdown",
            "metadata": {},
            "source": "Based on definition of our problem, factors that will influence our decision are:\n* Number of existing Fitness Club in the neighborhood (any type of gym)\n* Number of and distance to Afro Zumba Club in the neighborhood, if any\n* Percentage of Black and Hispanic population\n\n\nFollowing data sources will be needed to extract/generate the required information:\n* Number of gym or fitness club and their type and location in every neighborhood will be obtained using **Foursquare API**\n* Geospatial data of the neighborhoods will be extracted from **[here](https://geodata.lib.berkeley.edu/catalog/sde-columbia-census_2000_032807211977000)**\n* Percentage of Black and Hispanic population will be obtained from a csv files downloaded from **[here](http://app.coredata.nyc/?mlb=false&ntii=pop_race_black_pct&ntr=Sub-Borough%20Area&mz=14&vtl=https%3A%2F%2Fthefurmancenter.carto.com%2Fu%2Fnyufc%2Fapi%2Fv2%2Fviz%2F98d1f16e-95fd-4e52-a2b1-b7abaf634828%2Fviz.json&mln=true&mlp=true&mlat=40.718&ptsb=&nty=2018&mb=roadmap&pf=%7B%7D&md=table&mlv=false&mlng=-73.996&btl=Borough&atp=neighborhoods)** and **[here](http://app.coredata.nyc/?mlb=false&ntii=pop_race_hisp_pct&ntr=Sub-Borough%20Area&mz=14&vtl=https%3A%2F%2Fthefurmancenter.carto.com%2Fu%2Fnyufc%2Fapi%2Fv2%2Fviz%2F98d1f16e-95fd-4e52-a2b1-b7abaf634828%2Fviz.json&mln=true&mlp=true&mlat=40.718&ptsb=&nty=2018&mb=roadmap&pf=%7B%7D&md=table&mlv=false&mlng=-73.996&btl=Borough&atp=neighborhoods)**"
        },
        {
            "cell_type": "code",
            "execution_count": null,
            "metadata": {},
            "outputs": [],
            "source": ""
        }
    ],
    "metadata": {
        "kernelspec": {
            "display_name": "Python 3.6",
            "language": "python",
            "name": "python3"
        },
        "language_info": {
            "codemirror_mode": {
                "name": "ipython",
                "version": 3
            },
            "file_extension": ".py",
            "mimetype": "text/x-python",
            "name": "python",
            "nbconvert_exporter": "python",
            "pygments_lexer": "ipython3",
            "version": "3.6.9"
        }
    },
    "nbformat": 4,
    "nbformat_minor": 1
}